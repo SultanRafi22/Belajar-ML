{
 "cells": [
  {
   "cell_type": "code",
   "execution_count": 18,
   "id": "f1c03a04",
   "metadata": {},
   "outputs": [],
   "source": [
    "import numpy as np\n",
    "from sklearn.preprocessing import MinMaxScaler\n",
    "import matplotlib.pyplot as plt\n",
    "from sklearn.model_selection import train_test_split\n",
    "from keras.optimizers import Adam\n",
    "from keras.models import Sequential\n",
    "from keras.layers import Dense, Dropout\n",
    "from keras.activations import relu"
   ]
  },
  {
   "cell_type": "code",
   "execution_count": 19,
   "id": "966f94a6",
   "metadata": {},
   "outputs": [],
   "source": [
    "import os\n",
    "cwd = os.getcwd()\n",
    "file_path = os.path.join(cwd, 'data/diabetes.csv')"
   ]
  },
  {
   "cell_type": "code",
   "execution_count": 20,
   "id": "166899db",
   "metadata": {},
   "outputs": [
    {
     "data": {
      "text/plain": [
       "'C:\\\\Users\\\\VivoBook\\\\Desktop\\\\Jupyter Notebook\\\\PENGENALAN POLA'"
      ]
     },
     "execution_count": 20,
     "metadata": {},
     "output_type": "execute_result"
    }
   ],
   "source": [
    "# Cek direktori\n",
    "cwd"
   ]
  },
  {
   "cell_type": "code",
   "execution_count": 21,
   "id": "b12e333b",
   "metadata": {},
   "outputs": [],
   "source": [
    "# Load data\n",
    "data = np.loadtxt('C:\\\\Users\\\\VivoBook\\\\Desktop\\\\Jupyter Notebook\\\\PENGENALAN POLA\\\\data\\\\diabetes.csv', delimiter=',', dtype=float)"
   ]
  },
  {
   "cell_type": "code",
   "execution_count": 22,
   "id": "f15cc814",
   "metadata": {},
   "outputs": [],
   "source": [
    "features = data[:, 0:8]\n",
    "labels = data[:, 8]"
   ]
  },
  {
   "cell_type": "code",
   "execution_count": 23,
   "id": "5dff778f",
   "metadata": {
    "scrolled": true
   },
   "outputs": [],
   "source": [
    "scaler = MinMaxScaler()\n",
    "\n",
    "features = scaler.fit_transform(features)"
   ]
  },
  {
   "cell_type": "code",
   "execution_count": 24,
   "id": "05ea90bf",
   "metadata": {},
   "outputs": [],
   "source": [
    "training_data, testing_data, training_label, testing_label = train_test_split(features, labels, test_size=0.2, shuffle=True, stratify=labels)"
   ]
  },
  {
   "cell_type": "code",
   "execution_count": 25,
   "id": "b3d2b424",
   "metadata": {},
   "outputs": [],
   "source": [
    "# Membuat Model Neural Network\n",
    "model = Sequential()\n",
    "model.add(Dense(units = 100, input_dim = training_data.shape[1], activation=relu))\n",
    "model.add(Dense(units = 50, activation=relu))\n",
    "model.add(Dense(units = 1, activation='sigmoid'))\n",
    "model.compile(optimizer=Adam(learning_rate=0.001), loss='binary_crossentropy', metrics=['accuracy'])\n",
    "model.save('model.h5')"
   ]
  },
  {
   "cell_type": "code",
   "execution_count": 26,
   "id": "c1fc52fd",
   "metadata": {
    "scrolled": true
   },
   "outputs": [
    {
     "name": "stdout",
     "output_type": "stream",
     "text": [
      "Epoch 1/25\n",
      "20/20 [==============================] - 1s 16ms/step - loss: 0.6614 - accuracy: 0.6515 - val_loss: 0.6526 - val_accuracy: 0.6494\n",
      "Epoch 2/25\n",
      "20/20 [==============================] - 0s 3ms/step - loss: 0.6405 - accuracy: 0.6498 - val_loss: 0.6403 - val_accuracy: 0.6494\n",
      "Epoch 3/25\n",
      "20/20 [==============================] - 0s 4ms/step - loss: 0.6202 - accuracy: 0.6498 - val_loss: 0.6287 - val_accuracy: 0.6818\n",
      "Epoch 4/25\n",
      "20/20 [==============================] - 0s 4ms/step - loss: 0.6022 - accuracy: 0.6759 - val_loss: 0.6195 - val_accuracy: 0.6688\n",
      "Epoch 5/25\n",
      "20/20 [==============================] - 0s 4ms/step - loss: 0.5817 - accuracy: 0.6824 - val_loss: 0.6128 - val_accuracy: 0.6688\n",
      "Epoch 6/25\n",
      "20/20 [==============================] - 0s 4ms/step - loss: 0.5658 - accuracy: 0.6873 - val_loss: 0.6043 - val_accuracy: 0.6494\n",
      "Epoch 7/25\n",
      "20/20 [==============================] - 0s 3ms/step - loss: 0.5512 - accuracy: 0.7280 - val_loss: 0.5957 - val_accuracy: 0.6688\n",
      "Epoch 8/25\n",
      "20/20 [==============================] - 0s 4ms/step - loss: 0.5364 - accuracy: 0.7345 - val_loss: 0.5980 - val_accuracy: 0.6753\n",
      "Epoch 9/25\n",
      "20/20 [==============================] - 0s 3ms/step - loss: 0.5240 - accuracy: 0.7296 - val_loss: 0.5908 - val_accuracy: 0.6753\n",
      "Epoch 10/25\n",
      "20/20 [==============================] - 0s 3ms/step - loss: 0.5137 - accuracy: 0.7459 - val_loss: 0.5861 - val_accuracy: 0.6948\n",
      "Epoch 11/25\n",
      "20/20 [==============================] - 0s 4ms/step - loss: 0.5061 - accuracy: 0.7557 - val_loss: 0.5747 - val_accuracy: 0.6753\n",
      "Epoch 12/25\n",
      "20/20 [==============================] - 0s 3ms/step - loss: 0.4936 - accuracy: 0.7606 - val_loss: 0.5809 - val_accuracy: 0.6883\n",
      "Epoch 13/25\n",
      "20/20 [==============================] - 0s 3ms/step - loss: 0.4871 - accuracy: 0.7752 - val_loss: 0.5608 - val_accuracy: 0.7143\n",
      "Epoch 14/25\n",
      "20/20 [==============================] - 0s 4ms/step - loss: 0.4786 - accuracy: 0.7573 - val_loss: 0.5591 - val_accuracy: 0.7208\n",
      "Epoch 15/25\n",
      "20/20 [==============================] - 0s 3ms/step - loss: 0.4710 - accuracy: 0.7818 - val_loss: 0.5581 - val_accuracy: 0.7273\n",
      "Epoch 16/25\n",
      "20/20 [==============================] - 0s 3ms/step - loss: 0.4742 - accuracy: 0.7638 - val_loss: 0.5897 - val_accuracy: 0.7338\n",
      "Epoch 17/25\n",
      "20/20 [==============================] - 0s 3ms/step - loss: 0.4619 - accuracy: 0.7752 - val_loss: 0.5455 - val_accuracy: 0.7208\n",
      "Epoch 18/25\n",
      "20/20 [==============================] - 0s 3ms/step - loss: 0.4520 - accuracy: 0.7834 - val_loss: 0.5416 - val_accuracy: 0.7273\n",
      "Epoch 19/25\n",
      "20/20 [==============================] - 0s 3ms/step - loss: 0.4473 - accuracy: 0.7850 - val_loss: 0.5406 - val_accuracy: 0.6948\n",
      "Epoch 20/25\n",
      "20/20 [==============================] - 0s 4ms/step - loss: 0.4465 - accuracy: 0.7785 - val_loss: 0.5492 - val_accuracy: 0.7468\n",
      "Epoch 21/25\n",
      "20/20 [==============================] - 0s 4ms/step - loss: 0.4440 - accuracy: 0.7883 - val_loss: 0.5324 - val_accuracy: 0.7013\n",
      "Epoch 22/25\n",
      "20/20 [==============================] - 0s 4ms/step - loss: 0.4406 - accuracy: 0.7883 - val_loss: 0.5383 - val_accuracy: 0.6818\n",
      "Epoch 23/25\n",
      "20/20 [==============================] - 0s 3ms/step - loss: 0.4364 - accuracy: 0.7866 - val_loss: 0.5354 - val_accuracy: 0.6948\n",
      "Epoch 24/25\n",
      "20/20 [==============================] - 0s 4ms/step - loss: 0.4378 - accuracy: 0.7899 - val_loss: 0.5390 - val_accuracy: 0.7078\n",
      "Epoch 25/25\n",
      "20/20 [==============================] - 0s 4ms/step - loss: 0.4308 - accuracy: 0.7883 - val_loss: 0.5358 - val_accuracy: 0.7013\n",
      "5/5 [==============================] - 0s 3ms/step - loss: 0.5358 - accuracy: 0.7013\n"
     ]
    }
   ],
   "source": [
    "# Membuat data latih dan data tes\n",
    "acc_training = model.fit(training_data, training_label, \n",
    "                         validation_data=(testing_data, testing_label),\n",
    "                         batch_size=32, epochs=25)\n",
    "acc_testing = model.evaluate(testing_data, testing_label)"
   ]
  },
  {
   "cell_type": "code",
   "execution_count": 27,
   "id": "850f55e0",
   "metadata": {
    "scrolled": true
   },
   "outputs": [
    {
     "name": "stdout",
     "output_type": "stream",
     "text": [
      "Akurasinya adalah: 0.701298713684082\n"
     ]
    }
   ],
   "source": [
    "print('Akurasinya adalah: {}'.format(acc_testing[1]))"
   ]
  },
  {
   "cell_type": "code",
   "execution_count": 28,
   "id": "d759696e",
   "metadata": {},
   "outputs": [],
   "source": [
    "hist = acc_training.history"
   ]
  },
  {
   "cell_type": "code",
   "execution_count": 29,
   "id": "bf5291ae",
   "metadata": {
    "scrolled": true
   },
   "outputs": [
    {
     "data": {
      "image/png": "[encoded data removed]",
      "text/plain": [
       "<Figure size 432x288 with 1 Axes>"
      ]
     },
     "metadata": {
      "needs_background": "light"
     },
     "output_type": "display_data"
    }
   ],
   "source": [
    "# Hasil Plot daro Model yang dibuat\n",
    "f, ax = plt.subplots(1)\n",
    "ax.plot(hist['val_accuracy'], c = 'yellow')\n",
    "ax.plot(hist['accuracy'])\n",
    "ax.set_ylim(ymin=0)\n",
    "plt.show(f)"
   ]
  }
 ],
 "metadata": {
  "kernelspec": {
   "display_name": "Python 3 (ipykernel)",
   "language": "python",
   "name": "python3"
  },
  "language_info": {
   "codemirror_mode": {
    "name": "ipython",
    "version": 3
   },
   "file_extension": ".py",
   "mimetype": "text/x-python",
   "name": "python",
   "nbconvert_exporter": "python",
   "pygments_lexer": "ipython3",
   "version": "3.9.12"
  }
 },
 "nbformat": 4,
 "nbformat_minor": 5
}
