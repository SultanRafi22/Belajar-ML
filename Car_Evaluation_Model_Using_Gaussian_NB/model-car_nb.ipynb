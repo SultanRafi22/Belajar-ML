{
 "cells": [
  {
   "cell_type": "code",
   "execution_count": 15,
   "id": "d0dc8abf",
   "metadata": {},
   "outputs": [],
   "source": [
    "import pandas as pd\n",
    "import numpy as np\n",
    "import matplotlib.pyplot as plt\n",
    "from sklearn.naive_bayes import GaussianNB\n",
    "from sklearn.preprocessing import LabelEncoder, StandardScaler, OrdinalEncoder, MinMaxScaler\n",
    "from sklearn.pipeline import Pipeline\n",
    "from sklearn.compose import ColumnTransformer\n",
    "from sklearn.model_selection import train_test_split, GridSearchCV\n",
    "from sklearn.metrics import classification_report, multilabel_confusion_matrix, confusion_matrix, ConfusionMatrixDisplay, accuracy_score, precision_score, recall_score, f1_score"
   ]
  },
  {
   "cell_type": "code",
   "execution_count": 16,
   "id": "6edc5f75",
   "metadata": {},
   "outputs": [
    {
     "data": {
      "text/html": [
       "<div>\n",
       "<style scoped>\n",
       "    .dataframe tbody tr th:only-of-type {\n",
       "        vertical-align: middle;\n",
       "    }\n",
       "\n",
       "    .dataframe tbody tr th {\n",
       "        vertical-align: top;\n",
       "    }\n",
       "\n",
       "    .dataframe thead th {\n",
       "        text-align: right;\n",
       "    }\n",
       "</style>\n",
       "<table border=\"1\" class=\"dataframe\">\n",
       "  <thead>\n",
       "    <tr style=\"text-align: right;\">\n",
       "      <th></th>\n",
       "      <th>buying</th>\n",
       "      <th>maint</th>\n",
       "      <th>doors</th>\n",
       "      <th>persons</th>\n",
       "      <th>lug_boot</th>\n",
       "      <th>safety</th>\n",
       "      <th>class</th>\n",
       "    </tr>\n",
       "  </thead>\n",
       "  <tbody>\n",
       "    <tr>\n",
       "      <th>0</th>\n",
       "      <td>vhigh</td>\n",
       "      <td>med</td>\n",
       "      <td>5more</td>\n",
       "      <td>4</td>\n",
       "      <td>big</td>\n",
       "      <td>med</td>\n",
       "      <td>acc</td>\n",
       "    </tr>\n",
       "    <tr>\n",
       "      <th>1</th>\n",
       "      <td>low</td>\n",
       "      <td>high</td>\n",
       "      <td>3</td>\n",
       "      <td>more</td>\n",
       "      <td>big</td>\n",
       "      <td>high</td>\n",
       "      <td>vgood</td>\n",
       "    </tr>\n",
       "    <tr>\n",
       "      <th>2</th>\n",
       "      <td>med</td>\n",
       "      <td>high</td>\n",
       "      <td>2</td>\n",
       "      <td>4</td>\n",
       "      <td>big</td>\n",
       "      <td>med</td>\n",
       "      <td>acc</td>\n",
       "    </tr>\n",
       "    <tr>\n",
       "      <th>3</th>\n",
       "      <td>med</td>\n",
       "      <td>low</td>\n",
       "      <td>5more</td>\n",
       "      <td>4</td>\n",
       "      <td>small</td>\n",
       "      <td>high</td>\n",
       "      <td>good</td>\n",
       "    </tr>\n",
       "    <tr>\n",
       "      <th>4</th>\n",
       "      <td>med</td>\n",
       "      <td>low</td>\n",
       "      <td>3</td>\n",
       "      <td>more</td>\n",
       "      <td>med</td>\n",
       "      <td>med</td>\n",
       "      <td>good</td>\n",
       "    </tr>\n",
       "    <tr>\n",
       "      <th>...</th>\n",
       "      <td>...</td>\n",
       "      <td>...</td>\n",
       "      <td>...</td>\n",
       "      <td>...</td>\n",
       "      <td>...</td>\n",
       "      <td>...</td>\n",
       "      <td>...</td>\n",
       "    </tr>\n",
       "    <tr>\n",
       "      <th>145</th>\n",
       "      <td>high</td>\n",
       "      <td>high</td>\n",
       "      <td>3</td>\n",
       "      <td>more</td>\n",
       "      <td>big</td>\n",
       "      <td>high</td>\n",
       "      <td>acc</td>\n",
       "    </tr>\n",
       "    <tr>\n",
       "      <th>146</th>\n",
       "      <td>low</td>\n",
       "      <td>med</td>\n",
       "      <td>3</td>\n",
       "      <td>4</td>\n",
       "      <td>big</td>\n",
       "      <td>high</td>\n",
       "      <td>vgood</td>\n",
       "    </tr>\n",
       "    <tr>\n",
       "      <th>147</th>\n",
       "      <td>high</td>\n",
       "      <td>high</td>\n",
       "      <td>4</td>\n",
       "      <td>more</td>\n",
       "      <td>big</td>\n",
       "      <td>low</td>\n",
       "      <td>unacc</td>\n",
       "    </tr>\n",
       "    <tr>\n",
       "      <th>148</th>\n",
       "      <td>low</td>\n",
       "      <td>low</td>\n",
       "      <td>3</td>\n",
       "      <td>more</td>\n",
       "      <td>big</td>\n",
       "      <td>med</td>\n",
       "      <td>good</td>\n",
       "    </tr>\n",
       "    <tr>\n",
       "      <th>149</th>\n",
       "      <td>low</td>\n",
       "      <td>med</td>\n",
       "      <td>4</td>\n",
       "      <td>more</td>\n",
       "      <td>med</td>\n",
       "      <td>med</td>\n",
       "      <td>good</td>\n",
       "    </tr>\n",
       "  </tbody>\n",
       "</table>\n",
       "<p>150 rows × 7 columns</p>\n",
       "</div>"
      ],
      "text/plain": [
       "    buying maint  doors persons lug_boot safety  class\n",
       "0    vhigh   med  5more       4      big    med    acc\n",
       "1      low  high      3    more      big   high  vgood\n",
       "2      med  high      2       4      big    med    acc\n",
       "3      med   low  5more       4    small   high   good\n",
       "4      med   low      3    more      med    med   good\n",
       "..     ...   ...    ...     ...      ...    ...    ...\n",
       "145   high  high      3    more      big   high    acc\n",
       "146    low   med      3       4      big   high  vgood\n",
       "147   high  high      4    more      big    low  unacc\n",
       "148    low   low      3    more      big    med   good\n",
       "149    low   med      4    more      med    med   good\n",
       "\n",
       "[150 rows x 7 columns]"
      ]
     },
     "execution_count": 16,
     "metadata": {},
     "output_type": "execute_result"
    }
   ],
   "source": [
    "data = pd.read_excel('data/new_car_data.xlsx')\n",
    "data"
   ]
  },
  {
   "cell_type": "code",
   "execution_count": 17,
   "id": "2f2c689b",
   "metadata": {},
   "outputs": [],
   "source": [
    "X = data.drop(['class'], axis=1)\n",
    "y = data['class']"
   ]
  },
  {
   "cell_type": "code",
   "execution_count": 18,
   "id": "b9c62802",
   "metadata": {
    "scrolled": true
   },
   "outputs": [
    {
     "data": {
      "text/plain": [
       "array([[3., 2., 3., 1., 0., 2.],\n",
       "       [1., 0., 1., 2., 0., 0.],\n",
       "       [2., 0., 0., 1., 0., 2.],\n",
       "       [2., 1., 3., 1., 2., 0.],\n",
       "       [2., 1., 1., 2., 1., 2.],\n",
       "       [1., 2., 3., 2., 0., 0.],\n",
       "       [2., 3., 2., 2., 0., 2.],\n",
       "       [1., 2., 3., 1., 1., 0.],\n",
       "       [1., 1., 1., 2., 1., 2.],\n",
       "       [1., 1., 1., 1., 2., 2.],\n",
       "       [1., 2., 1., 1., 1., 0.],\n",
       "       [1., 1., 3., 2., 0., 2.],\n",
       "       [1., 2., 0., 1., 0., 2.],\n",
       "       [2., 2., 2., 2., 1., 2.],\n",
       "       [2., 1., 3., 2., 0., 0.],\n",
       "       [1., 1., 0., 1., 1., 0.],\n",
       "       [0., 1., 3., 2., 1., 0.],\n",
       "       [1., 1., 2., 1., 0., 2.],\n",
       "       [3., 2., 0., 0., 2., 0.],\n",
       "       [1., 1., 1., 1., 2., 0.],\n",
       "       [2., 3., 1., 2., 2., 2.],\n",
       "       [1., 1., 1., 0., 0., 2.],\n",
       "       [2., 3., 2., 2., 0., 0.],\n",
       "       [1., 1., 3., 1., 0., 0.],\n",
       "       [1., 3., 2., 2., 2., 2.],\n",
       "       [2., 3., 1., 1., 2., 0.],\n",
       "       [0., 1., 3., 1., 2., 2.],\n",
       "       [0., 3., 2., 2., 0., 2.],\n",
       "       [1., 1., 2., 2., 0., 0.],\n",
       "       [1., 1., 2., 1., 1., 2.],\n",
       "       [1., 1., 1., 2., 2., 0.],\n",
       "       [2., 1., 2., 1., 2., 2.],\n",
       "       [1., 0., 2., 1., 2., 1.],\n",
       "       [1., 2., 2., 2., 1., 0.],\n",
       "       [2., 1., 1., 2., 2., 0.],\n",
       "       [2., 1., 3., 2., 2., 0.],\n",
       "       [1., 1., 1., 1., 1., 0.],\n",
       "       [0., 0., 0., 2., 2., 0.],\n",
       "       [2., 1., 0., 1., 2., 0.],\n",
       "       [1., 1., 2., 1., 1., 0.],\n",
       "       [1., 3., 1., 2., 0., 0.],\n",
       "       [2., 1., 2., 2., 2., 0.],\n",
       "       [3., 1., 1., 1., 2., 0.],\n",
       "       [2., 0., 3., 2., 0., 0.],\n",
       "       [1., 2., 3., 0., 0., 1.],\n",
       "       [2., 0., 0., 0., 0., 1.],\n",
       "       [2., 3., 3., 1., 2., 0.],\n",
       "       [1., 1., 0., 1., 2., 2.],\n",
       "       [2., 0., 1., 2., 0., 0.],\n",
       "       [1., 2., 3., 1., 0., 0.],\n",
       "       [1., 1., 3., 1., 1., 0.],\n",
       "       [1., 2., 1., 0., 0., 2.],\n",
       "       [2., 2., 0., 2., 0., 0.],\n",
       "       [0., 0., 0., 0., 2., 1.],\n",
       "       [1., 1., 3., 1., 1., 2.],\n",
       "       [1., 0., 0., 2., 0., 0.],\n",
       "       [2., 2., 2., 0., 2., 0.],\n",
       "       [1., 2., 0., 2., 1., 0.],\n",
       "       [3., 3., 0., 1., 2., 0.],\n",
       "       [1., 1., 3., 2., 1., 2.],\n",
       "       [1., 1., 2., 1., 2., 1.],\n",
       "       [2., 2., 3., 1., 1., 1.],\n",
       "       [3., 3., 1., 2., 0., 0.],\n",
       "       [2., 1., 3., 1., 1., 0.],\n",
       "       [3., 3., 1., 0., 1., 0.],\n",
       "       [1., 3., 2., 1., 2., 0.],\n",
       "       [2., 1., 2., 0., 2., 0.],\n",
       "       [2., 2., 2., 2., 0., 0.],\n",
       "       [2., 1., 1., 1., 1., 0.],\n",
       "       [3., 2., 2., 0., 1., 2.],\n",
       "       [3., 1., 3., 2., 2., 1.],\n",
       "       [2., 3., 0., 1., 2., 0.],\n",
       "       [3., 3., 1., 2., 1., 2.],\n",
       "       [2., 2., 3., 1., 0., 0.],\n",
       "       [2., 0., 1., 1., 0., 0.],\n",
       "       [2., 3., 3., 2., 1., 2.],\n",
       "       [1., 2., 3., 2., 1., 2.],\n",
       "       [2., 0., 1., 0., 2., 1.],\n",
       "       [2., 2., 2., 2., 0., 2.],\n",
       "       [1., 0., 2., 1., 1., 0.],\n",
       "       [0., 3., 0., 0., 2., 2.],\n",
       "       [2., 2., 3., 2., 0., 0.],\n",
       "       [3., 1., 2., 2., 0., 2.],\n",
       "       [0., 0., 1., 2., 0., 1.],\n",
       "       [3., 1., 2., 1., 1., 2.],\n",
       "       [1., 1., 2., 2., 1., 2.],\n",
       "       [3., 0., 3., 2., 2., 0.],\n",
       "       [3., 0., 1., 0., 2., 0.],\n",
       "       [0., 2., 2., 1., 1., 0.],\n",
       "       [1., 2., 1., 1., 1., 1.],\n",
       "       [1., 0., 1., 2., 1., 0.],\n",
       "       [2., 1., 1., 0., 0., 2.],\n",
       "       [0., 2., 3., 2., 2., 2.],\n",
       "       [1., 0., 3., 2., 1., 0.],\n",
       "       [1., 3., 2., 2., 2., 0.],\n",
       "       [2., 1., 2., 1., 1., 0.],\n",
       "       [2., 1., 3., 2., 1., 0.],\n",
       "       [1., 2., 1., 1., 0., 2.],\n",
       "       [1., 0., 2., 1., 0., 0.],\n",
       "       [0., 1., 3., 0., 0., 0.],\n",
       "       [2., 2., 0., 2., 1., 2.],\n",
       "       [3., 0., 3., 2., 1., 0.],\n",
       "       [1., 2., 0., 1., 1., 0.],\n",
       "       [2., 1., 2., 1., 2., 0.],\n",
       "       [1., 2., 2., 1., 2., 0.],\n",
       "       [1., 0., 3., 2., 0., 0.],\n",
       "       [1., 2., 2., 2., 0., 0.],\n",
       "       [3., 2., 0., 2., 0., 0.],\n",
       "       [2., 1., 1., 2., 0., 2.],\n",
       "       [2., 1., 2., 1., 0., 0.],\n",
       "       [1., 0., 3., 1., 1., 0.],\n",
       "       [2., 2., 3., 1., 2., 0.],\n",
       "       [0., 0., 3., 1., 1., 1.],\n",
       "       [1., 0., 0., 1., 0., 0.],\n",
       "       [1., 0., 3., 1., 0., 0.],\n",
       "       [1., 1., 0., 2., 0., 0.],\n",
       "       [0., 0., 2., 1., 1., 0.],\n",
       "       [2., 2., 3., 2., 1., 2.],\n",
       "       [0., 2., 2., 2., 1., 2.],\n",
       "       [2., 1., 0., 1., 0., 2.],\n",
       "       [1., 0., 1., 1., 0., 0.],\n",
       "       [3., 1., 0., 2., 1., 2.],\n",
       "       [0., 2., 0., 0., 2., 1.],\n",
       "       [1., 1., 3., 2., 1., 0.],\n",
       "       [2., 1., 2., 1., 1., 2.],\n",
       "       [1., 2., 3., 1., 2., 0.],\n",
       "       [1., 2., 3., 1., 0., 2.],\n",
       "       [3., 0., 0., 0., 0., 0.],\n",
       "       [2., 3., 1., 2., 0., 0.],\n",
       "       [2., 3., 1., 1., 0., 2.],\n",
       "       [2., 1., 0., 2., 0., 0.],\n",
       "       [2., 1., 1., 2., 1., 0.],\n",
       "       [1., 1., 1., 2., 1., 0.],\n",
       "       [1., 0., 1., 1., 2., 0.],\n",
       "       [1., 1., 2., 2., 1., 0.],\n",
       "       [0., 3., 2., 2., 2., 2.],\n",
       "       [1., 1., 1., 1., 0., 2.],\n",
       "       [1., 2., 0., 2., 1., 1.],\n",
       "       [1., 1., 3., 1., 0., 2.],\n",
       "       [2., 2., 1., 2., 0., 0.],\n",
       "       [2., 1., 2., 2., 1., 2.],\n",
       "       [2., 1., 1., 1., 2., 0.],\n",
       "       [3., 2., 2., 1., 0., 0.],\n",
       "       [1., 3., 2., 1., 1., 2.],\n",
       "       [3., 2., 3., 2., 0., 2.],\n",
       "       [0., 0., 1., 2., 0., 0.],\n",
       "       [1., 2., 1., 1., 0., 0.],\n",
       "       [0., 0., 2., 2., 0., 1.],\n",
       "       [1., 1., 1., 2., 0., 2.],\n",
       "       [1., 2., 2., 2., 1., 2.]])"
      ]
     },
     "execution_count": 18,
     "metadata": {},
     "output_type": "execute_result"
    }
   ],
   "source": [
    "# import category_encoders as ce\n",
    "\n",
    "encoder = OrdinalEncoder()\n",
    "X = encoder.fit_transform(X)\n",
    "X"
   ]
  },
  {
   "cell_type": "code",
   "execution_count": 19,
   "id": "d0ff211c",
   "metadata": {},
   "outputs": [
    {
     "data": {
      "text/html": [
       "<div>\n",
       "<style scoped>\n",
       "    .dataframe tbody tr th:only-of-type {\n",
       "        vertical-align: middle;\n",
       "    }\n",
       "\n",
       "    .dataframe tbody tr th {\n",
       "        vertical-align: top;\n",
       "    }\n",
       "\n",
       "    .dataframe thead th {\n",
       "        text-align: right;\n",
       "    }\n",
       "</style>\n",
       "<table border=\"1\" class=\"dataframe\">\n",
       "  <thead>\n",
       "    <tr style=\"text-align: right;\">\n",
       "      <th></th>\n",
       "      <th>0</th>\n",
       "      <th>1</th>\n",
       "      <th>2</th>\n",
       "      <th>3</th>\n",
       "      <th>4</th>\n",
       "      <th>5</th>\n",
       "    </tr>\n",
       "  </thead>\n",
       "  <tbody>\n",
       "    <tr>\n",
       "      <th>0</th>\n",
       "      <td>1.000000</td>\n",
       "      <td>0.666667</td>\n",
       "      <td>1.000000</td>\n",
       "      <td>0.5</td>\n",
       "      <td>0.0</td>\n",
       "      <td>1.0</td>\n",
       "    </tr>\n",
       "    <tr>\n",
       "      <th>1</th>\n",
       "      <td>0.333333</td>\n",
       "      <td>0.000000</td>\n",
       "      <td>0.333333</td>\n",
       "      <td>1.0</td>\n",
       "      <td>0.0</td>\n",
       "      <td>0.0</td>\n",
       "    </tr>\n",
       "    <tr>\n",
       "      <th>2</th>\n",
       "      <td>0.666667</td>\n",
       "      <td>0.000000</td>\n",
       "      <td>0.000000</td>\n",
       "      <td>0.5</td>\n",
       "      <td>0.0</td>\n",
       "      <td>1.0</td>\n",
       "    </tr>\n",
       "    <tr>\n",
       "      <th>3</th>\n",
       "      <td>0.666667</td>\n",
       "      <td>0.333333</td>\n",
       "      <td>1.000000</td>\n",
       "      <td>0.5</td>\n",
       "      <td>1.0</td>\n",
       "      <td>0.0</td>\n",
       "    </tr>\n",
       "    <tr>\n",
       "      <th>4</th>\n",
       "      <td>0.666667</td>\n",
       "      <td>0.333333</td>\n",
       "      <td>0.333333</td>\n",
       "      <td>1.0</td>\n",
       "      <td>0.5</td>\n",
       "      <td>1.0</td>\n",
       "    </tr>\n",
       "    <tr>\n",
       "      <th>...</th>\n",
       "      <td>...</td>\n",
       "      <td>...</td>\n",
       "      <td>...</td>\n",
       "      <td>...</td>\n",
       "      <td>...</td>\n",
       "      <td>...</td>\n",
       "    </tr>\n",
       "    <tr>\n",
       "      <th>145</th>\n",
       "      <td>0.000000</td>\n",
       "      <td>0.000000</td>\n",
       "      <td>0.333333</td>\n",
       "      <td>1.0</td>\n",
       "      <td>0.0</td>\n",
       "      <td>0.0</td>\n",
       "    </tr>\n",
       "    <tr>\n",
       "      <th>146</th>\n",
       "      <td>0.333333</td>\n",
       "      <td>0.666667</td>\n",
       "      <td>0.333333</td>\n",
       "      <td>0.5</td>\n",
       "      <td>0.0</td>\n",
       "      <td>0.0</td>\n",
       "    </tr>\n",
       "    <tr>\n",
       "      <th>147</th>\n",
       "      <td>0.000000</td>\n",
       "      <td>0.000000</td>\n",
       "      <td>0.666667</td>\n",
       "      <td>1.0</td>\n",
       "      <td>0.0</td>\n",
       "      <td>0.5</td>\n",
       "    </tr>\n",
       "    <tr>\n",
       "      <th>148</th>\n",
       "      <td>0.333333</td>\n",
       "      <td>0.333333</td>\n",
       "      <td>0.333333</td>\n",
       "      <td>1.0</td>\n",
       "      <td>0.0</td>\n",
       "      <td>1.0</td>\n",
       "    </tr>\n",
       "    <tr>\n",
       "      <th>149</th>\n",
       "      <td>0.333333</td>\n",
       "      <td>0.666667</td>\n",
       "      <td>0.666667</td>\n",
       "      <td>1.0</td>\n",
       "      <td>0.5</td>\n",
       "      <td>1.0</td>\n",
       "    </tr>\n",
       "  </tbody>\n",
       "</table>\n",
       "<p>150 rows × 6 columns</p>\n",
       "</div>"
      ],
      "text/plain": [
       "            0         1         2    3    4    5\n",
       "0    1.000000  0.666667  1.000000  0.5  0.0  1.0\n",
       "1    0.333333  0.000000  0.333333  1.0  0.0  0.0\n",
       "2    0.666667  0.000000  0.000000  0.5  0.0  1.0\n",
       "3    0.666667  0.333333  1.000000  0.5  1.0  0.0\n",
       "4    0.666667  0.333333  0.333333  1.0  0.5  1.0\n",
       "..        ...       ...       ...  ...  ...  ...\n",
       "145  0.000000  0.000000  0.333333  1.0  0.0  0.0\n",
       "146  0.333333  0.666667  0.333333  0.5  0.0  0.0\n",
       "147  0.000000  0.000000  0.666667  1.0  0.0  0.5\n",
       "148  0.333333  0.333333  0.333333  1.0  0.0  1.0\n",
       "149  0.333333  0.666667  0.666667  1.0  0.5  1.0\n",
       "\n",
       "[150 rows x 6 columns]"
      ]
     },
     "execution_count": 19,
     "metadata": {},
     "output_type": "execute_result"
    }
   ],
   "source": [
    "scaler = MinMaxScaler()\n",
    "X = pd.DataFrame(scaler.fit_transform(X))\n",
    "X"
   ]
  },
  {
   "cell_type": "code",
   "execution_count": 20,
   "id": "dd43b655",
   "metadata": {},
   "outputs": [
    {
     "name": "stdout",
     "output_type": "stream",
     "text": [
      "X Train:  (120, 6)\n",
      "X Test:  (30, 6)\n",
      "y train:  (120,)\n",
      "y test:  (30,)\n"
     ]
    }
   ],
   "source": [
    "X_train, X_test, y_train, y_test = train_test_split(X, y, test_size=0.2, random_state=42)\n",
    "print('X Train: ', X_train.shape)\n",
    "print('X Test: ', X_test.shape)\n",
    "print('y train: ', y_train.shape)\n",
    "print('y test: ', y_test.shape)"
   ]
  },
  {
   "cell_type": "markdown",
   "id": "28f7398a",
   "metadata": {},
   "source": [
    "## Using Gaussian Naive Bayes"
   ]
  },
  {
   "cell_type": "code",
   "execution_count": 21,
   "id": "d95c3234",
   "metadata": {},
   "outputs": [
    {
     "data": {
      "text/html": [
       "<style>#sk-container-id-2 {color: black;background-color: white;}#sk-container-id-2 pre{padding: 0;}#sk-container-id-2 div.sk-toggleable {background-color: white;}#sk-container-id-2 label.sk-toggleable__label {cursor: pointer;display: block;width: 100%;margin-bottom: 0;padding: 0.3em;box-sizing: border-box;text-align: center;}#sk-container-id-2 label.sk-toggleable__label-arrow:before {content: \"▸\";float: left;margin-right: 0.25em;color: #696969;}#sk-container-id-2 label.sk-toggleable__label-arrow:hover:before {color: black;}#sk-container-id-2 div.sk-estimator:hover label.sk-toggleable__label-arrow:before {color: black;}#sk-container-id-2 div.sk-toggleable__content {max-height: 0;max-width: 0;overflow: hidden;text-align: left;background-color: #f0f8ff;}#sk-container-id-2 div.sk-toggleable__content pre {margin: 0.2em;color: black;border-radius: 0.25em;background-color: #f0f8ff;}#sk-container-id-2 input.sk-toggleable__control:checked~div.sk-toggleable__content {max-height: 200px;max-width: 100%;overflow: auto;}#sk-container-id-2 input.sk-toggleable__control:checked~label.sk-toggleable__label-arrow:before {content: \"▾\";}#sk-container-id-2 div.sk-estimator input.sk-toggleable__control:checked~label.sk-toggleable__label {background-color: #d4ebff;}#sk-container-id-2 div.sk-label input.sk-toggleable__control:checked~label.sk-toggleable__label {background-color: #d4ebff;}#sk-container-id-2 input.sk-hidden--visually {border: 0;clip: rect(1px 1px 1px 1px);clip: rect(1px, 1px, 1px, 1px);height: 1px;margin: -1px;overflow: hidden;padding: 0;position: absolute;width: 1px;}#sk-container-id-2 div.sk-estimator {font-family: monospace;background-color: #f0f8ff;border: 1px dotted black;border-radius: 0.25em;box-sizing: border-box;margin-bottom: 0.5em;}#sk-container-id-2 div.sk-estimator:hover {background-color: #d4ebff;}#sk-container-id-2 div.sk-parallel-item::after {content: \"\";width: 100%;border-bottom: 1px solid gray;flex-grow: 1;}#sk-container-id-2 div.sk-label:hover label.sk-toggleable__label {background-color: #d4ebff;}#sk-container-id-2 div.sk-serial::before {content: \"\";position: absolute;border-left: 1px solid gray;box-sizing: border-box;top: 0;bottom: 0;left: 50%;z-index: 0;}#sk-container-id-2 div.sk-serial {display: flex;flex-direction: column;align-items: center;background-color: white;padding-right: 0.2em;padding-left: 0.2em;position: relative;}#sk-container-id-2 div.sk-item {position: relative;z-index: 1;}#sk-container-id-2 div.sk-parallel {display: flex;align-items: stretch;justify-content: center;background-color: white;position: relative;}#sk-container-id-2 div.sk-item::before, #sk-container-id-2 div.sk-parallel-item::before {content: \"\";position: absolute;border-left: 1px solid gray;box-sizing: border-box;top: 0;bottom: 0;left: 50%;z-index: -1;}#sk-container-id-2 div.sk-parallel-item {display: flex;flex-direction: column;z-index: 1;position: relative;background-color: white;}#sk-container-id-2 div.sk-parallel-item:first-child::after {align-self: flex-end;width: 50%;}#sk-container-id-2 div.sk-parallel-item:last-child::after {align-self: flex-start;width: 50%;}#sk-container-id-2 div.sk-parallel-item:only-child::after {width: 0;}#sk-container-id-2 div.sk-dashed-wrapped {border: 1px dashed gray;margin: 0 0.4em 0.5em 0.4em;box-sizing: border-box;padding-bottom: 0.4em;background-color: white;}#sk-container-id-2 div.sk-label label {font-family: monospace;font-weight: bold;display: inline-block;line-height: 1.2em;}#sk-container-id-2 div.sk-label-container {text-align: center;}#sk-container-id-2 div.sk-container {/* jupyter's `normalize.less` sets `[hidden] { display: none; }` but bootstrap.min.css set `[hidden] { display: none !important; }` so we also need the `!important` here to be able to override the default hidden behavior on the sphinx rendered scikit-learn.org. See: https://github.com/scikit-learn/scikit-learn/issues/21755 */display: inline-block !important;position: relative;}#sk-container-id-2 div.sk-text-repr-fallback {display: none;}</style><div id=\"sk-container-id-2\" class=\"sk-top-container\"><div class=\"sk-text-repr-fallback\"><pre>GaussianNB()</pre><b>In a Jupyter environment, please rerun this cell to show the HTML representation or trust the notebook. <br />On GitHub, the HTML representation is unable to render, please try loading this page with nbviewer.org.</b></div><div class=\"sk-container\" hidden><div class=\"sk-item\"><div class=\"sk-estimator sk-toggleable\"><input class=\"sk-toggleable__control sk-hidden--visually\" id=\"sk-estimator-id-2\" type=\"checkbox\" checked><label for=\"sk-estimator-id-2\" class=\"sk-toggleable__label sk-toggleable__label-arrow\">GaussianNB</label><div class=\"sk-toggleable__content\"><pre>GaussianNB()</pre></div></div></div></div></div>"
      ],
      "text/plain": [
       "GaussianNB()"
      ]
     },
     "execution_count": 21,
     "metadata": {},
     "output_type": "execute_result"
    }
   ],
   "source": [
    "model = GaussianNB()\n",
    "model.fit(X_train, y_train)"
   ]
  },
  {
   "cell_type": "code",
   "execution_count": 22,
   "id": "2f15824a",
   "metadata": {},
   "outputs": [
    {
     "name": "stdout",
     "output_type": "stream",
     "text": [
      "Nilai akurasi:  0.5333333333333333\n"
     ]
    }
   ],
   "source": [
    "y_pred = model.predict(X_test)\n",
    "acc = accuracy_score(y_test, y_pred)\n",
    "print('Nilai akurasi: ', acc)"
   ]
  },
  {
   "cell_type": "code",
   "execution_count": 23,
   "id": "64cd0930",
   "metadata": {},
   "outputs": [
    {
     "name": "stdout",
     "output_type": "stream",
     "text": [
      "              precision    recall  f1-score   support\n",
      "\n",
      "         acc       1.00      0.38      0.55         8\n",
      "        good       0.67      0.40      0.50        10\n",
      "       unacc       0.80      0.57      0.67         7\n",
      "       vgood       0.31      1.00      0.48         5\n",
      "\n",
      "    accuracy                           0.53        30\n",
      "   macro avg       0.69      0.59      0.55        30\n",
      "weighted avg       0.73      0.53      0.55        30\n",
      "\n"
     ]
    }
   ],
   "source": [
    "print(classification_report(y_test, y_pred))"
   ]
  },
  {
   "cell_type": "code",
   "execution_count": 24,
   "id": "f4a6c648",
   "metadata": {},
   "outputs": [
    {
     "data": {
      "image/png": "[encoded data removed]",
      "text/plain": [
       "<Figure size 640x480 with 2 Axes>"
      ]
     },
     "metadata": {},
     "output_type": "display_data"
    }
   ],
   "source": [
    "cm = confusion_matrix(y_test, y_pred)\n",
    "cm_display = ConfusionMatrixDisplay(confusion_matrix=cm)\n",
    "cm_display.plot()\n",
    "plt.title('Confusion Matriks')\n",
    "plt.show()"
   ]
  },
  {
   "cell_type": "code",
   "execution_count": 25,
   "id": "e7dcb8bb",
   "metadata": {},
   "outputs": [
    {
     "name": "stdout",
     "output_type": "stream",
     "text": [
      "[[3 2 1 2]\n",
      " [0 4 0 6]\n",
      " [0 0 4 3]\n",
      " [0 0 0 5]]\n"
     ]
    }
   ],
   "source": [
    "print(cm)"
   ]
  },
  {
   "cell_type": "code",
   "execution_count": 26,
   "id": "564b2108",
   "metadata": {},
   "outputs": [
    {
     "name": "stdout",
     "output_type": "stream",
     "text": [
      "Number of mislabeled points out of a total 30 points : 14\n"
     ]
    }
   ],
   "source": [
    "print(\"Number of mislabeled points out of a total %d points : %d\"% (X_test.shape[0], (y_test != y_pred).sum()))"
   ]
  },
  {
   "cell_type": "markdown",
   "id": "bc801ed1",
   "metadata": {},
   "source": [
    "## Using Hyperparameter Tuning Model"
   ]
  },
  {
   "cell_type": "code",
   "execution_count": 39,
   "id": "f04a437e",
   "metadata": {},
   "outputs": [
    {
     "name": "stdout",
     "output_type": "stream",
     "text": [
      "Fitting 5 folds for each of 100 candidates, totalling 500 fits\n",
      "GaussianNB(var_smoothing=0.1)\n"
     ]
    }
   ],
   "source": [
    "param_grid_nb = {\n",
    "    'var_smoothing': np.logspace(0,-9, num=100)\n",
    "}\n",
    "\n",
    "\n",
    "tuning_model = GridSearchCV(estimator=GaussianNB(), param_grid=param_grid_nb, verbose=1, cv=5, n_jobs=-1)\n",
    "tuning_model.fit(X_train, y_train)\n",
    "print(tuning_model.best_estimator_)\n",
    "# model.best_estimator_"
   ]
  },
  {
   "cell_type": "code",
   "execution_count": 40,
   "id": "78d1c208",
   "metadata": {},
   "outputs": [
    {
     "name": "stdout",
     "output_type": "stream",
     "text": [
      "Nilai Akurasi dengan model yang dituning:  0.7333333333333333\n"
     ]
    }
   ],
   "source": [
    "tuning_y_pred = tuning_model.predict(X_test)\n",
    "acc = accuracy_score(y_test, tuning_y_pred)\n",
    "print('Nilai Akurasi dengan model yang dituning: ', acc)"
   ]
  },
  {
   "cell_type": "code",
   "execution_count": 41,
   "id": "24a31623",
   "metadata": {},
   "outputs": [
    {
     "data": {
      "image/png": "[encoded data removed]",
      "text/plain": [
       "<Figure size 640x480 with 2 Axes>"
      ]
     },
     "metadata": {},
     "output_type": "display_data"
    }
   ],
   "source": [
    "tuning_cm = confusion_matrix(y_test, tuning_y_pred)\n",
    "tuning_cm_display = ConfusionMatrixDisplay(confusion_matrix=tuning_cm)\n",
    "tuning_cm_display.plot()\n",
    "plt.title('Confusion Matriks Model with Tuning Hyperparameter')\n",
    "plt.show()"
   ]
  },
  {
   "cell_type": "code",
   "execution_count": 42,
   "id": "74c86ccb",
   "metadata": {},
   "outputs": [
    {
     "name": "stdout",
     "output_type": "stream",
     "text": [
      "Number of mislabeled points out of a total 30 points at hyperparameter tuning model : 14\n"
     ]
    }
   ],
   "source": [
    "print(\"Number of mislabeled points out of a total %d points at hyperparameter tuning model : %d\"% (X_test.shape[0], (y_test != y_pred).sum()))"
   ]
  },
  {
   "cell_type": "code",
   "execution_count": 43,
   "id": "602f7377",
   "metadata": {},
   "outputs": [
    {
     "name": "stdout",
     "output_type": "stream",
     "text": [
      "              precision    recall  f1-score   support\n",
      "\n",
      "         acc       1.00      0.25      0.40         8\n",
      "        good       0.73      0.80      0.76        10\n",
      "       unacc       0.88      1.00      0.93         7\n",
      "       vgood       0.56      1.00      0.71         5\n",
      "\n",
      "    accuracy                           0.73        30\n",
      "   macro avg       0.79      0.76      0.70        30\n",
      "weighted avg       0.81      0.73      0.70        30\n",
      "\n"
     ]
    }
   ],
   "source": [
    "print(classification_report(y_test, tuning_y_pred))"
   ]
  },
  {
   "cell_type": "code",
   "execution_count": 46,
   "id": "491633c7",
   "metadata": {},
   "outputs": [],
   "source": [
    "# new_data_input = (1, 0, 2, 0, 1, 0)\n",
    "# new_data = np.asarray(new_data_input)\n",
    "\n",
    "# new_data_reshaped = new_data.reshape(1, -1)\n",
    "# new_pred = tuning_model.predict(new_data_reshaped)\n",
    "# print(new_pred)"
   ]
  }
 ],
 "metadata": {
  "kernelspec": {
   "display_name": "Python 3 (ipykernel)",
   "language": "python",
   "name": "python3"
  },
  "language_info": {
   "codemirror_mode": {
    "name": "ipython",
    "version": 3
   },
   "file_extension": ".py",
   "mimetype": "text/x-python",
   "name": "python",
   "nbconvert_exporter": "python",
   "pygments_lexer": "ipython3",
   "version": "3.9.16"
  }
 },
 "nbformat": 4,
 "nbformat_minor": 5
}
